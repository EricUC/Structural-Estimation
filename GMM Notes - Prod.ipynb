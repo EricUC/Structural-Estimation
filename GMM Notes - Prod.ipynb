{
 "cells": [
  {
   "cell_type": "markdown",
   "metadata": {},
   "source": [
    "### Problem Set 3"
   ]
  },
  {
   "cell_type": "code",
   "execution_count": 1,
   "metadata": {
    "collapsed": true
   },
   "outputs": [],
   "source": [
    "import numpy as np\n",
    "import numpy.linalg as lin\n",
    "import scipy.stats as sts\n",
    "import scipy.integrate as intgr\n",
    "import scipy.optimize as opt\n",
    "import matplotlib\n",
    "import matplotlib.pyplot as plt\n",
    "\n",
    "%matplotlib inline"
   ]
  },
  {
   "cell_type": "markdown",
   "metadata": {},
   "source": [
    "#### 1(b). Estimate the parameters by GMM"
   ]
  },
  {
   "cell_type": "code",
   "execution_count": 4,
   "metadata": {
    "collapsed": false,
    "scrolled": true
   },
   "outputs": [
    {
     "data": {
      "text/plain": [
       "(200,)"
      ]
     },
     "execution_count": 4,
     "metadata": {},
     "output_type": "execute_result"
    }
   ],
   "source": [
    "incomes = np.loadtxt('incomes.txt')\n",
    "incomes.shape"
   ]
  },
  {
   "cell_type": "code",
   "execution_count": 18,
   "metadata": {
    "collapsed": true
   },
   "outputs": [],
   "source": [
    "def trunc_lognorm_pdf(xvals, mu, sigma, cutoff):\n",
    "    if cutoff == 'None':\n",
    "        prob_notcut = 1.0\n",
    "    else:\n",
    "        prob_notcut = sts.norm.cdf(cutoff, loc=mu, scale=sigma)\n",
    "    \n",
    "    lognorm_pdf_vals = ((1 / (xvals * sigma * np.sqrt(2 * np.pi)) *\n",
    "                    np.exp(-(np.log(xvals) - mu)**2 / (2 * sigma**2))) /\n",
    "                    prob_notcut)\n",
    "    \n",
    "    return lognorm_pdf_vals"
   ]
  },
  {
   "cell_type": "code",
   "execution_count": 65,
   "metadata": {
    "collapsed": true
   },
   "outputs": [],
   "source": [
    "def data_moments(xvals):\n",
    "    mean_data = xvals.mean()\n",
    "    std_data = xvals.std()\n",
    "    \n",
    "    return mean_data, std_data\n",
    "\n",
    "#@ Pay attention to the lower band of lognormal is 0\n",
    "test_ub = 15000000\n",
    "#@ Why np.inf doesn't work?  \n",
    "def model_moments(mu, sigma, cutoff):\n",
    "    xfx = lambda x: x * trunc_lognorm_pdf(x, mu, sigma, cutoff)\n",
    "    (mean_model, m_m_err) = intgr.quad(xfx, 0, test_ub)\n",
    "    x2fx = lambda x: ((x - mean_model) ** 2) * trunc_lognorm_pdf(\n",
    "                                                     x, mu, sigma, cutoff) \n",
    "    (var_model, v_m_err) = intgr.quad(x2fx, 0, test_ub)\n",
    "    \n",
    "    return mean_model, np.sqrt(var_model)\n",
    "\n",
    "\n",
    "def err_vec(xvals, mu, sigma, cutoff, simple):\n",
    "    mean_data, std_data = data_moments(xvals)\n",
    "    moms_data = np.array([[mean_data], [std_data]])\n",
    "    mean_model, std_model = model_moments(mu, sigma, cutoff)\n",
    "    moms_model = np.array([[mean_model], [std_model]])\n",
    "    if simple:\n",
    "        err_vec = moms_model - moms_data\n",
    "    else:\n",
    "        err_vec = (moms_model - moms_data) / moms_data\n",
    "    \n",
    "    return err_vec\n",
    "\n",
    "\n",
    "def criterion(params, *args):\n",
    "    mu, sigma = params\n",
    "    xvals, cutoff, W = args\n",
    "    err = err_vec(xvals, mu, sigma, cutoff, simple=False)\n",
    "    crit_val = np.dot(np.dot(err.T, W), err) \n",
    "    \n",
    "    return crit_val"
   ]
  },
  {
   "cell_type": "markdown",
   "metadata": {},
   "source": [
    "* Guess initial values"
   ]
  },
  {
   "cell_type": "code",
   "execution_count": 17,
   "metadata": {
    "collapsed": false,
    "scrolled": true
   },
   "outputs": [
    {
     "name": "stdout",
     "output_type": "stream",
     "text": [
      "85276.8236063 17992.542128\n",
      "[ 11.35365799   9.79771262]\n"
     ]
    }
   ],
   "source": [
    "print(incomes.mean(), incomes.std())\n",
    "print(np.log(np.array([incomes.mean(), incomes.std()])))"
   ]
  },
  {
   "cell_type": "code",
   "execution_count": 34,
   "metadata": {
    "collapsed": false
   },
   "outputs": [
    {
     "name": "stderr",
     "output_type": "stream",
     "text": [
      "/Users/nerv/anaconda/lib/python3.5/site-packages/ipykernel/__main__.py:7: RuntimeWarning: divide by zero encountered in true_divide\n",
      "/Users/nerv/anaconda/lib/python3.5/site-packages/ipykernel/__main__.py:8: RuntimeWarning: divide by zero encountered in log\n",
      "/Users/nerv/anaconda/lib/python3.5/site-packages/ipykernel/__main__.py:8: RuntimeWarning: invalid value encountered in multiply\n"
     ]
    },
    {
     "data": {
      "text/plain": [
       "[<matplotlib.lines.Line2D at 0x10fe1de10>]"
      ]
     },
     "execution_count": 34,
     "metadata": {},
     "output_type": "execute_result"
    },
    {
     "data": {
      "image/png": "[encoded data removed]",
      "text/plain": [
       "<matplotlib.figure.Figure at 0x10f9a1fd0>"
      ]
     },
     "metadata": {},
     "output_type": "display_data"
    }
   ],
   "source": [
    "xvals_test = np.linspace(0, 150000, 500)\n",
    "mu_test, sigma_test = 11.3, 0.2\n",
    "plt.subplots()\n",
    "plt.hist(incomes, 30, normed = True)\n",
    "plt.plot(xvals_test, trunc_lognorm_pdf(xvals_test, mu_test, \n",
    "                                       sigma_test, 'None'))"
   ]
  },
  {
   "cell_type": "code",
   "execution_count": 77,
   "metadata": {
    "collapsed": false,
    "scrolled": true
   },
   "outputs": [
    {
     "name": "stdout",
     "output_type": "stream",
     "text": [
      "mu_GMM1= 11.3318808796  sig_GMM1= 0.208696657968\n"
     ]
    },
    {
     "data": {
      "text/plain": [
       "      fun: array([[  1.52796931e-15]])\n",
       " hess_inv: <2x2 LbfgsInvHessProduct with dtype=float64>\n",
       "      jac: array([  1.24638464e-07,   4.51714148e-07])\n",
       "  message: b'CONVERGENCE: NORM_OF_PROJECTED_GRADIENT_<=_PGTOL'\n",
       "     nfev: 39\n",
       "      nit: 10\n",
       "   status: 0\n",
       "  success: True\n",
       "        x: array([ 11.33188088,   0.20869666])"
      ]
     },
     "execution_count": 77,
     "metadata": {},
     "output_type": "execute_result"
    }
   ],
   "source": [
    "mu_init, sig_init = 11.0, 0.2\n",
    "\n",
    "params_init = np.array([mu_init, sig_init])\n",
    "W_hat = np.eye(2)\n",
    "gmm_args = (incomes, 'None', W_hat)\n",
    "results = opt.minimize(criterion, params_init, args = gmm_args,\n",
    "                       method = 'L-BFGS-B', \n",
    "                       bounds = ((1e-10, None), (1e-10, None)))\n",
    "mu_GMM_1b, sig_GMM_1b = results.x\n",
    "print('mu_GMM1=', mu_GMM_1b, ' sig_GMM1=', sig_GMM_1b)\n",
    "results"
   ]
  },
  {
   "cell_type": "code",
   "execution_count": 78,
   "metadata": {
    "collapsed": false
   },
   "outputs": [
    {
     "name": "stderr",
     "output_type": "stream",
     "text": [
      "/Users/nerv/anaconda/lib/python3.5/site-packages/ipykernel/__main__.py:9: RuntimeWarning: divide by zero encountered in true_divide\n",
      "/Users/nerv/anaconda/lib/python3.5/site-packages/ipykernel/__main__.py:10: RuntimeWarning: divide by zero encountered in log\n",
      "/Users/nerv/anaconda/lib/python3.5/site-packages/ipykernel/__main__.py:10: RuntimeWarning: invalid value encountered in multiply\n"
     ]
    },
    {
     "data": {
      "image/png": "[encoded data removed]",
      "text/plain": [
       "<matplotlib.figure.Figure at 0x1111c44a8>"
      ]
     },
     "metadata": {},
     "output_type": "display_data"
    }
   ],
   "source": [
    "x_linspace = np.linspace(0, 160000, 500)\n",
    "\n",
    "def plot_1b():\n",
    "    plt.hist(incomes, 30, normed = True)\n",
    "    plt.plot(x_linspace, trunc_lognorm_pdf(x_linspace, *results.x, 'None'),\n",
    "             label = 'GMM: $\\mu = {:.4f}, \\sigma = {:.4f}$'.format(\n",
    "             *results.x), lw = 2)\n",
    "    plt.title('MACSS Graduate Incomes')\n",
    "    plt.xlabel('Income')\n",
    "    plt.ylabel('Density')\n",
    "    plt.legend(loc = 'best')\n",
    "    \n",
    "plt.subplots()\n",
    "plot_1b()"
   ]
  },
  {
   "cell_type": "code",
   "execution_count": 79,
   "metadata": {
    "collapsed": false
   },
   "outputs": [
    {
     "name": "stdout",
     "output_type": "stream",
     "text": [
      "Data moments of mean and std:  (85276.823606258113, 17992.542128046523)\n",
      "Model moments of mean and std:  (85276.82659818021, 17992.542438137243)\n"
     ]
    }
   ],
   "source": [
    "print('Data moments of mean and std: ', data_moments(incomes))\n",
    "print('Model moments of mean and std: ', model_moments(*results.x, 'None'))"
   ]
  },
  {
   "cell_type": "markdown",
   "metadata": {},
   "source": [
    "#### 1(c). 2-Step GMM"
   ]
  },
  {
   "cell_type": "code",
   "execution_count": 80,
   "metadata": {
    "collapsed": false,
    "scrolled": false
   },
   "outputs": [
    {
     "name": "stdout",
     "output_type": "stream",
     "text": [
      "VCV Matrix: \n",
      "[[  6.15472335e-18   3.02332971e-18]\n",
      " [  3.02332971e-18   1.48512321e-18]]\n",
      "W_hat (inverted VCV): \n",
      "[[  1.05448223e+17   5.17983873e+16]\n",
      " [  5.17983873e+16   2.54444585e+16]]\n"
     ]
    }
   ],
   "source": [
    "err_1c = err_vec(incomes, mu_GMM_1b, sig_GMM_1b, 'None', False)\n",
    "VCV_1c = np.dot(err_1c, err_1c.T) / incomes.shape[0]\n",
    "print('VCV Matrix: ')\n",
    "print(VCV_1c)\n",
    "W_hat_1c = lin.pinv(VCV_1c)  # Use the pseudo-inverse calculated by SVD because VCV2 is ill-conditioned\n",
    "print('W_hat (inverted VCV): ')\n",
    "print(W_hat_1c)"
   ]
  },
  {
   "cell_type": "code",
   "execution_count": 92,
   "metadata": {
    "collapsed": false
   },
   "outputs": [
    {
     "data": {
      "text/plain": [
       "      fun: array([[  2.12856102e-05]])\n",
       " hess_inv: <2x2 LbfgsInvHessProduct with dtype=float64>\n",
       "      jac: array([  2.34042677e+09,   7.77384542e+09])\n",
       "  message: b'ABNORMAL_TERMINATION_IN_LNSRCH'\n",
       "     nfev: 171\n",
       "      nit: 4\n",
       "   status: 2\n",
       "  success: False\n",
       "        x: array([ 11.33188088,   0.20869664])"
      ]
     },
     "execution_count": 92,
     "metadata": {},
     "output_type": "execute_result"
    }
   ],
   "source": [
    "params_init_1c = results.x\n",
    "gmm_args_1c = (incomes, \"None\", W_hat_1c)\n",
    "results_1c = opt.minimize(criterion, params_init_1c, args = gmm_args_1c,\n",
    "                       method='L-BFGS-B', \n",
    "                       bounds=((1e-10, None), (1e-10, None)))\n",
    "results_1c"
   ]
  },
  {
   "cell_type": "code",
   "execution_count": 95,
   "metadata": {
    "collapsed": false
   },
   "outputs": [
    {
     "data": {
      "text/plain": [
       "     fun: array([[ 4.48204137]])\n",
       "     jac: array([  4.39525267e+09,   1.15171793e+10])\n",
       " message: 'Converged (|x_n-x_(n-1)| ~= 0)'\n",
       "    nfev: 4\n",
       "     nit: 1\n",
       "  status: 2\n",
       " success: True\n",
       "       x: array([ 11.33188086,   0.20869666])"
      ]
     },
     "execution_count": 95,
     "metadata": {},
     "output_type": "execute_result"
    }
   ],
   "source": [
    "opt.minimize(criterion, params_init_1c, args = gmm_args_1c, method='TNC')"
   ]
  },
  {
   "cell_type": "code",
   "execution_count": 104,
   "metadata": {
    "collapsed": false
   },
   "outputs": [
    {
     "name": "stdout",
     "output_type": "stream",
     "text": [
      "The value of the criterion function is: 2.1285610191427995e-05\n"
     ]
    }
   ],
   "source": [
    "print('The value of the criterion function is: {}'.format(\n",
    "      float(criterion(results_1c.x, *gmm_args_1c))))"
   ]
  },
  {
   "cell_type": "code",
   "execution_count": 112,
   "metadata": {
    "collapsed": false
   },
   "outputs": [
    {
     "name": "stderr",
     "output_type": "stream",
     "text": [
      "/Users/nerv/anaconda/lib/python3.5/site-packages/ipykernel/__main__.py:36: RuntimeWarning: divide by zero encountered in true_divide\n",
      "/Users/nerv/anaconda/lib/python3.5/site-packages/ipykernel/__main__.py:37: RuntimeWarning: divide by zero encountered in log\n",
      "/Users/nerv/anaconda/lib/python3.5/site-packages/ipykernel/__main__.py:37: RuntimeWarning: invalid value encountered in multiply\n"
     ]
    },
    {
     "data": {
      "text/plain": [
       "<matplotlib.legend.Legend at 0x11215ac50>"
      ]
     },
     "execution_count": 112,
     "metadata": {},
     "output_type": "execute_result"
    },
    {
     "data": {
      "image/png": "[encoded data removed]",
      "text/plain": [
       "<matplotlib.figure.Figure at 0x1121cee10>"
      ]
     },
     "metadata": {},
     "output_type": "display_data"
    }
   ],
   "source": [
    "plt.subplots()\n",
    "\n",
    "plot_1b()\n",
    "plt.plot(x_linspace, trunc_lognorm_pdf(x_linspace, *results_1c.x, 'None'),\n",
    "             label = '2-Step GMM: $\\mu = {:.4f}, \\sigma = {:.4f}$'.format(\n",
    "             *results_1c.x), lw = 2)\n",
    "plt.legend(prop = {'size': 9})"
   ]
  },
  {
   "cell_type": "markdown",
   "metadata": {},
   "source": [
    "#### extra: 3D plot of the criterion function"
   ]
  },
  {
   "cell_type": "code",
   "execution_count": 113,
   "metadata": {
    "collapsed": true
   },
   "outputs": [],
   "source": [
    "from mpl_toolkits.mplot3d import Axes3D\n",
    "from matplotlib import cm\n",
    "cmap1 = matplotlib.cm.get_cmap('summer')"
   ]
  },
  {
   "cell_type": "code",
   "execution_count": 115,
   "metadata": {
    "collapsed": false
   },
   "outputs": [
    {
     "name": "stderr",
     "output_type": "stream",
     "text": [
      "/Users/nerv/anaconda/lib/python3.5/site-packages/scipy/integrate/quadpack.py:356: IntegrationWarning: The maximum number of subdivisions (50) has been achieved.\n",
      "  If increasing the limit yields no improvement it is advised to analyze \n",
      "  the integrand in order to determine the difficulties.  If the position of a \n",
      "  local difficulty can be determined (singularity, discontinuity) one will \n",
      "  probably gain from splitting up the interval and calling the integrator \n",
      "  on the subranges.  Perhaps a special-purpose integrator should be used.\n",
      "  warnings.warn(msg, IntegrationWarning)\n",
      "/Users/nerv/anaconda/lib/python3.5/site-packages/ipykernel/__main__.py:57: RuntimeWarning: invalid value encountered in sqrt\n",
      "/Users/nerv/anaconda/lib/python3.5/site-packages/scipy/integrate/quadpack.py:356: IntegrationWarning: The algorithm does not converge.  Roundoff error is detected\n",
      "  in the extrapolation table.  It is assumed that the requested tolerance\n",
      "  cannot be achieved, and that the returned result (if full_output = 1) is \n",
      "  the best which can be obtained.\n",
      "  warnings.warn(msg, IntegrationWarning)\n",
      "/Users/nerv/anaconda/lib/python3.5/site-packages/scipy/integrate/quadpack.py:356: IntegrationWarning: The integral is probably divergent, or slowly convergent.\n",
      "  warnings.warn(msg, IntegrationWarning)\n"
     ]
    },
    {
     "data": {
      "text/plain": [
       "<matplotlib.text.Text at 0x112151cf8>"
      ]
     },
     "execution_count": 115,
     "metadata": {},
     "output_type": "execute_result"
    },
    {
     "name": "stderr",
     "output_type": "stream",
     "text": [
      "/Users/nerv/anaconda/lib/python3.5/site-packages/matplotlib/colors.py:581: RuntimeWarning: invalid value encountered in less\n",
      "  cbook._putmask(xa, xa < 0.0, -1)\n"
     ]
    },
    {
     "data": {
      "image/png": "[encoded data removed]",
      "text/plain": [
       "<matplotlib.figure.Figure at 0x111f62c88>"
      ]
     },
     "metadata": {},
     "output_type": "display_data"
    }
   ],
   "source": [
    "margin = 50\n",
    "mu_vals = np.linspace(results_1c.x[0]-margin, results_1c.x[0]+margin, margin)\n",
    "sig_vals = np.linspace(results_1c.x[1]-margin, results_1c.x[1]+margin, margin)\n",
    "\n",
    "crit_vals = np.zeros((50, 50))\n",
    "for mu_ind in range(50):\n",
    "    for sig_ind in range(50):\n",
    "        crit_vals[mu_ind, sig_ind] = \\\n",
    "            criterion(np.array([mu_vals[mu_ind], sig_vals[sig_ind]]),\n",
    "                      incomes, 'None', W_hat_1c)\n",
    "\n",
    "mu_mesh, sig_mesh = np.meshgrid(mu_vals, sig_vals)\n",
    "\n",
    "fig = plt.figure()\n",
    "ax = fig.gca(projection='3d')\n",
    "ax.plot_surface(sig_mesh, mu_mesh, crit_vals, rstride=8,\n",
    "                cstride=1, cmap=cmap1)\n",
    "ax.set_title('Criterion function for values of mu and sigma')\n",
    "ax.set_xlabel(r'$\\sigma$')\n",
    "ax.set_ylabel(r'$\\mu$')\n",
    "ax.set_zlabel(r'Crit. func.')"
   ]
  },
  {
   "cell_type": "markdown",
   "metadata": {},
   "source": [
    "#### 1(d). Alternative moments"
   ]
  },
  {
   "cell_type": "code",
   "execution_count": 144,
   "metadata": {
    "collapsed": false
   },
   "outputs": [],
   "source": [
    "def data_moments4(xvals):\n",
    "    bpct_1_dat = xvals[xvals < 75000].shape[0] / xvals.shape[0]\n",
    "    bpct_2_dat = (xvals[(xvals >= 75000) & (xvals < 100000)].shape[0] /\n",
    "                  xvals.shape[0])\n",
    "    bpct_3_dat = xvals[xvals >= 100000].shape[0] / xvals.shape[0]\n",
    "\n",
    "    return bpct_1_dat, bpct_2_dat, bpct_3_dat\n",
    "\n",
    "\n",
    "def model_moments4(mu, sigma, cutoff):\n",
    "    xfx = lambda x: trunc_lognorm_pdf(x, mu, sigma, cutoff)\n",
    "    (bpct_1_mod, bp_1_err) = intgr.quad(xfx, 0, 75000)\n",
    "    (bpct_2_mod, bp_2_err) = intgr.quad(xfx, 75000, 100000)\n",
    "    (bpct_3_mod, bp_3_err) = intgr.quad(xfx, 100000, 1e+10)\n",
    "    # np.inf will cause some error\n",
    "    \n",
    "    return bpct_1_mod, bpct_2_mod, bpct_3_mod\n",
    "\n",
    "\n",
    "def err_vec4(xvals, mu, sigma, cutoff, simple):\n",
    "    bpct_1_dat, bpct_2_dat, bpct_3_dat = data_moments4(xvals)\n",
    "    moms_data = np.array([[bpct_1_dat], [bpct_2_dat], [bpct_3_dat]])\n",
    "    bpct_1_mod, bpct_2_mod, bpct_3_mod = model_moments4(mu, sigma, cutoff)\n",
    "    moms_model = np.array([[bpct_1_mod], [bpct_2_mod], [bpct_3_mod]])\n",
    "                           \n",
    "    if simple:\n",
    "        err_vec = moms_model - moms_data   # in case the denominator = 0\n",
    "    else:\n",
    "        err_vec = 100 * ((moms_model - moms_data) / moms_data)\n",
    "        # Percentage\n",
    "    \n",
    "    return err_vec\n",
    "\n",
    "\n",
    "def criterion4(params, *args):\n",
    "    mu, sigma = params\n",
    "    xvals, cutoff, W = args\n",
    "    err = err_vec4(xvals, mu, sigma, cutoff, simple=False)\n",
    "    crit_val = np.dot(np.dot(err.T, W), err) \n",
    "    \n",
    "    return crit_val"
   ]
  },
  {
   "cell_type": "code",
   "execution_count": 145,
   "metadata": {
    "collapsed": false,
    "scrolled": true
   },
   "outputs": [
    {
     "name": "stdout",
     "output_type": "stream",
     "text": [
      "(0.3, 0.5, 0.2)\n",
      "(0.3089457048264477, 0.4991973229364228, 2.9380948987325335e-117)\n",
      "[[ 10008.91750882]]\n"
     ]
    }
   ],
   "source": [
    "print(data_moments4(incomes))\n",
    "print(model_moments4(11.33, 0.21, 'None'))\n",
    "params = np.array([11.33, 0.21])\n",
    "print(criterion4(params, incomes, 150000, np.eye(3)))"
   ]
  },
  {
   "cell_type": "code",
   "execution_count": 146,
   "metadata": {
    "collapsed": false,
    "scrolled": true
   },
   "outputs": [
    {
     "data": {
      "text/plain": [
       "      fun: array([[ 10000.]])\n",
       " hess_inv: <2x2 LbfgsInvHessProduct with dtype=float64>\n",
       "      jac: array([ 0.00236469, -0.00218279])\n",
       "  message: b'CONVERGENCE: REL_REDUCTION_OF_F_<=_FACTR*EPSMCH'\n",
       "     nfev: 21\n",
       "      nit: 4\n",
       "   status: 0\n",
       "  success: True\n",
       "        x: array([ 11.33568132,   0.21059844])"
      ]
     },
     "execution_count": 146,
     "metadata": {},
     "output_type": "execute_result"
    }
   ],
   "source": [
    "params_init = np.array([11.33, 0.21])\n",
    "W_hat_1d = np.eye(3)\n",
    "gmm_args = (incomes, 150000, W_hat_1d)\n",
    "results_1d = opt.minimize(criterion4, params_init, args=(gmm_args),\n",
    "                       method='L-BFGS-B', \n",
    "                          bounds=((1e-10, None), (1e-10, None)))\n",
    "results_1d"
   ]
  },
  {
   "cell_type": "markdown",
   "metadata": {},
   "source": [
    "#### 1(e). Alternative 2-step GMM"
   ]
  },
  {
   "cell_type": "code",
   "execution_count": 147,
   "metadata": {
    "collapsed": false
   },
   "outputs": [
    {
     "name": "stdout",
     "output_type": "stream",
     "text": [
      "[[  1.25132370e-14   5.54025883e-14  -7.90987896e-07]\n",
      " [  5.54025883e-14   2.45295984e-13  -3.50211353e-06]\n",
      " [ -7.90987896e-07  -3.50211353e-06   5.00000000e+01]]\n",
      "[[  5.00529496e-18   2.21610353e-17  -3.16395158e-10]\n",
      " [  2.21610360e-17   9.81183936e-17  -1.40084541e-09]\n",
      " [ -3.16395168e-10  -1.40084541e-09   2.00000000e-02]]\n"
     ]
    }
   ],
   "source": [
    "err_1e = err_vec4(incomes, *results_1d.x, 'None', False)\n",
    "VCV_1e = np.dot(err_1e, err_1e.T) / incomes.shape[0]\n",
    "print(VCV_1e)\n",
    "W_hat_1e = lin.pinv(VCV_1e)  # Use the pseudo-inverse calculated by SVD because VCV2 is ill-conditioned\n",
    "print(W_hat_1e) "
   ]
  },
  {
   "cell_type": "markdown",
   "metadata": {},
   "source": [
    "### 2. Linear regression and GMM"
   ]
  },
  {
   "cell_type": "code",
   "execution_count": null,
   "metadata": {
    "collapsed": true
   },
   "outputs": [],
   "source": []
  },
  {
   "cell_type": "code",
   "execution_count": null,
   "metadata": {
    "collapsed": true
   },
   "outputs": [],
   "source": []
  },
  {
   "cell_type": "code",
   "execution_count": 93,
   "metadata": {
    "collapsed": false
   },
   "outputs": [
    {
     "name": "stdout",
     "output_type": "stream",
     "text": [
      "1b.\n",
      "mu_GMM: 11.33 sig_GMM: 0.21\n",
      "The value of the GMM criterion function: 1.527969312041055e-15\n",
      "Data moments: mu: 85276.82, std: 17992.54\n",
      "Model moments: mu: 85276.83, std: 17992.54\n",
      "\n"
     ]
    }
   ],
   "source": [
    "plot = False\n",
    "\n",
    "\n",
    "# Problem 1\n",
    "\n",
    "income = np.loadtxt('incomes.txt')\n",
    "\n",
    "\n",
    "# 1a\n",
    "\n",
    "cutoff = 150000\n",
    "lower_bound = 0.00\n",
    "upper_bound = 150000\n",
    "nums = 150000\n",
    "\n",
    "if plot:\n",
    "    fig, ax = plt.subplots()\n",
    "    count, bins, ignored = plt.hist(income, 30, normed = True)\n",
    "    plt.xlim(0, cutoff)\n",
    "    plt.title(\"MACSS Class of '18, '19, '20 Graduate Salary\")\n",
    "    plt.xlabel(r'Income ($)')\n",
    "    plt.ylabel('Probability Mass')\n",
    "    plt.savefig('fig_1a')\n",
    "    plt.close()\n",
    "\n",
    "    \n",
    "# 1b\n",
    "\n",
    "def trunc_lognorm_pdf(xvals, mu, sigma, cutoff):\n",
    "    \n",
    "    if cutoff == 'None':\n",
    "        prob_notcut = 1.0\n",
    "    else:\n",
    "        prob_notcut = sts.norm.cdf(cutoff, loc=mu, scale=sigma)\n",
    "    \n",
    "    lognorm_pdf_vals = ((1/(xvals*sigma * np.sqrt(2 * np.pi)) *\n",
    "                    np.exp( - (np.log(xvals) - mu)**2 / (2 * sigma**2))) /\n",
    "                    prob_notcut)\n",
    "    \n",
    "    return lognorm_pdf_vals\n",
    "\n",
    "def data_moments(xvals):\n",
    "    \n",
    "    mean_data = xvals.mean()\n",
    "    std_data = xvals.std()\n",
    "    \n",
    "    return mean_data, std_data\n",
    "\n",
    "\n",
    "def model_moments(mu, sigma, cutoff):\n",
    "    \n",
    "    xfx = lambda x: x * trunc_lognorm_pdf(x, mu, sigma, cutoff)\n",
    "    (mean_model, m_m_err) = intgr.quad(xfx, 0, 15000000) \n",
    "    x2fx = lambda x: ((x - mean_model) ** 2) * trunc_lognorm_pdf(x, mu, sigma,\n",
    "                                                                 cutoff) \n",
    "    (var_model, v_m_err) = intgr.quad(x2fx, 0, 15000000)\n",
    "    std_model = np.sqrt(var_model)\n",
    "    s_m_err = np.sqrt(v_m_err)\n",
    "    \n",
    "    return mean_model, std_model\n",
    "\n",
    "\n",
    "def err_vec(xvals, mu, sigma, cutoff, simple):\n",
    "    \n",
    "    mean_data, std_data = data_moments(xvals)\n",
    "    moms_data = np.array([[mean_data], [std_data]])\n",
    "    mean_model, std_model = model_moments(mu, sigma, cutoff)\n",
    "    moms_model = np.array([[mean_model], [std_model]])\n",
    "    if simple:\n",
    "        err_vec = moms_model - moms_data\n",
    "    else:\n",
    "        err_vec = (moms_model - moms_data) / moms_data\n",
    "    \n",
    "    return err_vec\n",
    "\n",
    "\n",
    "def criterion(params, *args):\n",
    "    \n",
    "    mu, sigma = params\n",
    "    xvals, cutoff, W = args\n",
    "    err = err_vec(xvals, mu, sigma, cutoff, simple=False)\n",
    "    crit_val = np.dot(np.dot(err.T, W), err) \n",
    "\n",
    "    return crit_val\n",
    "\n",
    "\n",
    "mu_init, sig_init = 11.0, 0.2\n",
    "\n",
    "params_init = np.array([mu_init, sig_init])\n",
    "W_hat = np.eye(2)\n",
    "gmm_args = (income, 150000, W_hat)\n",
    "results = opt.minimize(criterion, params_init, args=(gmm_args),\n",
    "                       method='L-BFGS-B',\n",
    "                       bounds=((1e-10, None), (1e-10, None)))\n",
    "\n",
    "mu_GMM1, sig_GMM1 = results.x\n",
    "\n",
    "params_GMM1 = np.array([mu_GMM1, sig_GMM1])\n",
    "value1 = criterion(params_GMM1, *gmm_args)[0,0]\n",
    "\n",
    "mean_data, std_data = data_moments(income)\n",
    "mean_model, std_model = model_moments(mu_GMM1, sig_GMM1, 150000)\n",
    "\n",
    "print('1b.')\n",
    "print('mu_GMM: {:.2f}'.format(mu_GMM1), 'sig_GMM: {:.2f}'.format(\n",
    "       sig_GMM1))\n",
    "print('The value of the GMM criterion function: {}'.format(value1))\n",
    "print('Data moments: mu: {:.2f}, std: {:.2f}'.format(mean_data, std_data))\n",
    "print('Model moments: mu: {:.2f}, std: {:.2f}\\n'.format(mean_model, std_model))\n",
    "\n",
    "dist_income = np.linspace(lower_bound, upper_bound, nums)\n",
    "\n",
    "if plot:\n",
    "    fig, ax = plt.subplots()\n",
    "    count, bins, ignored = plt.hist(income, 30, normed = True)\n",
    "    \n",
    "    plt.title('PDF of Graduate Incomes of MACSS Students')\n",
    "    plt.xlabel(r'Income ($)')\n",
    "    plt.ylabel('Density')\n",
    "\n",
    "    plt.plot(dist_income, trunc_lognorm_pdf(dist_income, mu_GMM1, sig_GMM1,\n",
    "                150000), label = 'GMM: $\\mu = {:.2f}, \\sigma = {:.2f}$'.format(\n",
    "                    mu_GMM1, sig_GMM1))\n",
    "    \n",
    "    plt.xlim(0, cutoff)\n",
    "    plt.legend(loc='best')\n",
    "    plt.savefig('fig_1b')\n",
    "    plt.close()\n",
    "\n",
    "\n",
    "# 1c\n",
    "\n",
    "err1 = err_vec(income, mu_GMM1, sig_GMM1, 150000, False)\n",
    "VCV2 = np.dot(err1, err1.T) / income.shape[0]\n",
    "W_hat2 = lin.pinv(VCV2)  \n",
    "\n",
    "params_init = np.array([mu_GMM1, sig_GMM1])\n",
    "gmm_args2 = (income, 150000, W_hat2)\n",
    "results2 = opt.minimize(criterion, params_init, args=(gmm_args2),\n",
    "                        method='L-BFGS-B', \n",
    "                        bounds=((1e-10, None), (1e-10, None)))\n",
    "\n",
    "mu_GMM2, sig_GMM2 = results2.x\n",
    "\n",
    "params_init_GMM2 = np.array([mu_GMM2, sig_GMM2])\n",
    "value2 = criterion(params_init_GMM2, *gmm_args2)[0,0]\n",
    "\n",
    "mean_model2, std_model2 = model_moments(mu_GMM2, sig_GMM2, 150000)\n",
    "\n",
    "if plot:\n",
    "    fig, ax = plt.subplots()\n",
    "    count, bins, ignored = plt.hist(income, 30, normed = True)\n",
    "    plt.xlim(0, cutoff)\n",
    "    plt.title('PDF of Graduate Incomes of MACSS Students')\n",
    "    plt.xlabel(r'Income ($)')\n",
    "    plt.ylabel('Density')\n",
    "\n",
    "    plt.plot(dist_income, trunc_lognorm_pdf(\n",
    "               dist_income, mu_GMM1, sig_GMM1,150000),\n",
    "              label='GMM: $\\mu = {:.2f}, \\sigma = {:.2f}$'.format(mu_GMM1,\n",
    "                                                                  sig_GMM1))\n",
    "\n",
    "    plt.plot(dist_income, trunc_lognorm_pdf(dist_income, mu_GMM2, sig_GMM2,\n",
    "              150000),label='2-Step GMM: $\\mu = {:.2f}, \\sigma = {:.2f}$'.\\\n",
    "               format(mu_GMM2, sig_GMM2))\n",
    "    \n",
    "    plt.legend(loc='best')\n",
    "    plt.savefig('fig_1c')\n",
    "    plt.close()"
   ]
  },
  {
   "cell_type": "code",
   "execution_count": 131,
   "metadata": {
    "collapsed": true
   },
   "outputs": [],
   "source": [
    "cutoff = 150000\n",
    "\n",
    "def data_moments3(xvals):\n",
    "    bpct_1_dat = xvals[xvals < 75000].shape[0] / xvals.shape[0]\n",
    "    bpct_2_dat = (xvals[(xvals >=75000) & (xvals < 100000)].shape[0] /\n",
    "                  xvals.shape[0])\n",
    "    bpct_3_dat = (xvals[(xvals >=100000)].shape[0] /\n",
    "                  xvals.shape[0])\n",
    "   \n",
    "    return bpct_1_dat, bpct_2_dat, bpct_3_dat\n",
    "\n",
    "\n",
    "def model_moments3(mu, sigma, cutoff):\n",
    "    xfx = lambda x: trunc_lognorm_pdf(x, mu, sigma, cutoff)\n",
    "    # use small enough figure to lower bound \n",
    "    (bpct_1_mod, bp_1_err) = intgr.quad(xfx, 0.00001, 75000)\n",
    "    (bpct_2_mod, bp_2_err) = intgr.quad(xfx, 75000, 100000)\n",
    "    # use large enough figure to upper bound\n",
    "    (bpct_3_mod, bp_3_err) = intgr.quad(xfx, 100000, 1500000)  \n",
    "\n",
    "    return bpct_1_mod, bpct_2_mod, bpct_3_mod\n",
    "\n",
    "\n",
    "def err_vec3(xvals, mu, sigma, cutoff, simple):\n",
    "    bpct_1_dat, bpct_2_dat, bpct_3_dat = data_moments3(xvals)\n",
    "    moms_data = np.array([[bpct_1_dat], [bpct_2_dat], [bpct_3_dat]])\n",
    "    bpct_1_mod, bpct_2_mod, bpct_3_mod = model_moments3(mu, sigma, cutoff)\n",
    "    moms_model = np.array([[bpct_1_mod], [bpct_2_mod], [bpct_3_mod]])\n",
    "\n",
    "    if simple:\n",
    "        err_vec = moms_model - moms_data\n",
    "    else:\n",
    "        err_vec = 100 * ((moms_model - moms_data) / moms_data)\n",
    "    \n",
    "    return err_vec\n",
    "\n",
    "\n",
    "def criterion3(params, *args):\n",
    "    mu, sigma = params\n",
    "    xvals, cutoff, W = args\n",
    "    err = err_vec3(xvals, mu, sigma, cutoff, simple = True)\n",
    "    crit_val = np.dot(np.dot(err.T, W), err) \n",
    "    return crit_val\n",
    "\n",
    "\n",
    "W_hat_1d = np.eye(3)\n",
    "gmm_args_1d = (income, cutoff, W_hat_1d)\n",
    "results_1d = opt.minimize(criterion3, params_init, args=(gmm_args_1d),\n",
    "                       method='L-BFGS-B', bounds=((1e-10, None), (1e-10, None)))\n",
    "\n",
    "\n",
    "mu_GMM_1d, sig_GMM_1d = results_1d.x\n",
    "\n",
    "params_init_GMM_1d = np.array([mu_GMM_1d, sig_GMM_1d])\n",
    "value3 = criterion3(params_init_GMM_1d, *gmm_args_1d)[0][0]\n",
    "\n",
    "data_moment1, data_moment2, data_moment3 = data_moments3(income)\n",
    "model_moment1, model_moment2,model_moment3 = model_moments3(mu_GMM_1d,\n",
    "                                                    sig_GMM_1d, cutoff)"
   ]
  },
  {
   "cell_type": "code",
   "execution_count": 136,
   "metadata": {
    "collapsed": false
   },
   "outputs": [
    {
     "name": "stdout",
     "output_type": "stream",
     "text": [
      "(0.3, 0.5, 0.2)\n",
      "(0.3089457048264471, 0.4991973229364228, 0.19185697223712916)\n",
      "[[ 0.00014698]]\n"
     ]
    }
   ],
   "source": [
    "print(data_moments3(incomes))\n",
    "print(model_moments3(11.33, 0.21, 'None'))\n",
    "params = np.array([11.33, 0.21])\n",
    "print(criterion3(params, incomes, 'None', np.eye(3)))"
   ]
  },
  {
   "cell_type": "code",
   "execution_count": 132,
   "metadata": {
    "collapsed": false,
    "scrolled": false
   },
   "outputs": [
    {
     "data": {
      "text/plain": [
       "      fun: array([[  4.08272876e-12]])\n",
       " hess_inv: <2x2 LbfgsInvHessProduct with dtype=float64>\n",
       "      jac: array([ -1.91243580e-06,   9.84140686e-06])\n",
       "  message: b'CONVERGENCE: NORM_OF_PROJECTED_GRADIENT_<=_PGTOL'\n",
       "     nfev: 15\n",
       "      nit: 3\n",
       "   status: 0\n",
       "  success: True\n",
       "        x: array([ 11.33568122,   0.21059927])"
      ]
     },
     "execution_count": 132,
     "metadata": {},
     "output_type": "execute_result"
    }
   ],
   "source": [
    "results_1d"
   ]
  },
  {
   "cell_type": "code",
   "execution_count": 133,
   "metadata": {
    "collapsed": false
   },
   "outputs": [
    {
     "data": {
      "text/plain": [
       "array([ 11.33,   0.21])"
      ]
     },
     "execution_count": 133,
     "metadata": {},
     "output_type": "execute_result"
    }
   ],
   "source": [
    "params_init"
   ]
  },
  {
   "cell_type": "code",
   "execution_count": null,
   "metadata": {
    "collapsed": true
   },
   "outputs": [],
   "source": []
  }
 ],
 "metadata": {
  "anaconda-cloud": {},
  "kernelspec": {
   "display_name": "Python [conda root]",
   "language": "python",
   "name": "conda-root-py"
  },
  "language_info": {
   "codemirror_mode": {
    "name": "ipython",
    "version": 3
   },
   "file_extension": ".py",
   "mimetype": "text/x-python",
   "name": "python",
   "nbconvert_exporter": "python",
   "pygments_lexer": "ipython3",
   "version": "3.5.2"
  }
 },
 "nbformat": 4,
 "nbformat_minor": 1
}
